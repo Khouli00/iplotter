{
 "cells": [
  {
   "cell_type": "code",
   "execution_count": 1,
   "metadata": {
    "collapsed": false
   },
   "outputs": [
    {
     "data": {
      "text/html": [
       "<iframe srcdoc=\"\n",
       "                <!-- Load c3.css -->\n",
       "                <link href='https://cdnjs.cloudflare.com/ajax/libs/c3/0.4.10/c3.min.css' rel='stylesheet' type='text/css'/>\n",
       "\n",
       "                <!-- Load d3.js and c3.js -->\n",
       "                <script src='http://d3js.org/d3.v3.min.js' charset='utf-8'></script>\n",
       "                <script src='http://cdnjs.cloudflare.com/ajax/libs/c3/0.4.10/c3.min.js'></script>\n",
       "                <div id=chart></div>\n",
       "                <script> c3.generate({'data': {'groups': [['data1', 'data2', 'data3']], 'types': {'data1': 'area-spline', 'data3': 'area-spline', 'data2': 'area-spline'}, 'columns': [['data1', 300, 350, 300, 0, 0, 120], ['data2', 130, 100, 140, 200, 150, 50], ['data3', 180, 75, 265, 100, 50, 100]]}});</script>\n",
       "            \" src=\"\" width=\"800\" height=\"420\" sandbox=\"allow-scripts\"></iframe>"
      ],
      "text/plain": [
       "<IPython.core.display.HTML object>"
      ]
     },
     "execution_count": 1,
     "metadata": {},
     "output_type": "execute_result"
    }
   ],
   "source": [
    "from iplotter import IPlotter\n",
    "\n",
    "plotter = IPlotter('c3')\n",
    "\n",
    "chart = {\n",
    "    \"data\": {\n",
    "        \"columns\": [\n",
    "            ['data1', 300, 350, 300, 0, 0, 120],\n",
    "            ['data2', 130, 100, 140, 200, 150, 50],\n",
    "            ['data3', 180, 75, 265, 100, 50, 100]\n",
    "        ],\n",
    "        \"types\": {\n",
    "            \"data1\": 'area-spline',\n",
    "            \"data2\": 'area-spline',\n",
    "            \"data3\": 'area-spline'\n",
    "        },\n",
    "        \"groups\": [['data1', 'data2', 'data3']]\n",
    "    }\n",
    "}\n",
    "\n",
    "plotter.plot(chart)\n"
   ]
  },
  {
   "cell_type": "code",
   "execution_count": 3,
   "metadata": {
    "collapsed": false,
    "scrolled": false
   },
   "outputs": [
    {
     "data": {
      "text/html": [
       "<iframe srcdoc=\"\n",
       "                <!-- Load d3.js and plotly.js -->\n",
       "                <script src='https://cdnjs.cloudflare.com/ajax/libs/d3/3.5.6/d3.min.js'></script>\n",
       "                <script src='https://code.jquery.com/jquery-2.1.4.min.js'></script>\n",
       "                <script src='https://d14fo0winaifog.cloudfront.net/plotly-basic.js'></script>\n",
       "\n",
       "                <div id=chart></div>\n",
       "                <script> \n",
       "                    CHART = document.getElementById('chart');\n",
       "                    Plotly.plot(CHART, [{'y': [20, 14, 25, 16, 18, 22, 19, 15, 12, 16, 14, 17], 'x': ['Jan', 'Feb', 'Mar', 'Apr', 'May', 'Jun', 'Jul', 'Aug', 'Sep', 'Oct', 'Nov', 'Dec'], 'type': 'bar', 'name': 'Item 1', 'marker': {'color': 'rgb(49,130,189)', 'opacity': 0.7}}, {'y': [19, 14, 22, 14, 16, 19, 15, 14, 10, 12, 12, 16], 'x': ['Jan', 'Feb', 'Mar', 'Apr', 'May', 'Jun', 'Jul', 'Aug', 'Sep', 'Oct', 'Nov', 'Dec'], 'type': 'bar', 'name': 'Item 2', 'marker': {'opacity': 0.7}}], {'barmode': 'group', 'xaxis': {'tickangle': -45}, 'title': 'Title'});\n",
       "                </script>\n",
       "            \" src=\"\" width=\"800\" height=\"420\" sandbox=\"allow-scripts\"></iframe>"
      ],
      "text/plain": [
       "<IPython.core.display.HTML object>"
      ]
     },
     "execution_count": 3,
     "metadata": {},
     "output_type": "execute_result"
    }
   ],
   "source": [
    "from iplotter import IPlotter\n",
    "\n",
    "plotter2 = IPlotter('plotly')\n",
    "\n",
    "trace1 = {\n",
    "  \"x\": ['Jan', 'Feb', 'Mar', 'Apr', 'May', 'Jun', 'Jul', 'Aug', 'Sep', 'Oct', 'Nov', 'Dec'],\n",
    "  \"y\": [20, 14, 25, 16, 18, 22, 19, 15, 12, 16, 14, 17],\n",
    "  \"type\": 'bar',\n",
    "  \"name\": 'Item 1',\n",
    "  \"marker\": {\n",
    "    \"color\": 'rgb(49,130,189)',\n",
    "    \"opacity\": 0.7,\n",
    "  }\n",
    "}\n",
    "\n",
    "trace2 = {\n",
    "  \"x\": ['Jan', 'Feb', 'Mar', 'Apr', 'May', 'Jun', 'Jul', 'Aug', 'Sep', 'Oct', 'Nov', 'Dec'],\n",
    "  \"y\": [19, 14, 22, 14, 16, 19, 15, 14, 10, 12, 12, 16],\n",
    "  \"type\": 'bar',\n",
    "  \"name\": 'Item 2',\n",
    "  \"marker\": {\n",
    "    \"opacity\": 0.7\n",
    "  }\n",
    "}\n",
    "\n",
    "data = [trace1, trace2]\n",
    "\n",
    "layout = {\n",
    "  \"title\": 'Title',\n",
    "  \"xaxis\": {\n",
    "    \"tickangle\": -45\n",
    "  },\n",
    "  \"barmode\": 'group'\n",
    "};\n",
    "\n",
    "plotter2.plot(data,layout)"
   ]
  },
  {
   "cell_type": "code",
   "execution_count": null,
   "metadata": {
    "collapsed": true
   },
   "outputs": [],
   "source": []
  }
 ],
 "metadata": {
  "kernelspec": {
   "display_name": "Python 2",
   "language": "python",
   "name": "python2"
  },
  "language_info": {
   "codemirror_mode": {
    "name": "ipython",
    "version": 2
   },
   "file_extension": ".py",
   "mimetype": "text/x-python",
   "name": "python",
   "nbconvert_exporter": "python",
   "pygments_lexer": "ipython2",
   "version": "2.7.10"
  }
 },
 "nbformat": 4,
 "nbformat_minor": 0
}
